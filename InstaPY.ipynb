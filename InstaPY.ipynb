{
 "cells": [
  {
   "cell_type": "code",
   "execution_count": null,
   "id": "80325a5a",
   "metadata": {},
   "outputs": [],
   "source": [
    "!pip install --upgrade pip"
   ]
  },
  {
   "cell_type": "code",
   "execution_count": null,
   "id": "a90814f9",
   "metadata": {},
   "outputs": [],
   "source": [
    "!pip uninstall emoji"
   ]
  },
  {
   "cell_type": "code",
   "execution_count": 25,
   "id": "ee4f458e",
   "metadata": {},
   "outputs": [
    {
     "name": "stdout",
     "output_type": "stream",
     "text": [
      "Requirement already satisfied: emoji in c:\\users\\esther\\anaconda3\\lib\\site-packages (1.7.0)\n",
      "Collecting emoji\n",
      "  Using cached emoji-2.2.0.tar.gz (240 kB)\n",
      "  Preparing metadata (setup.py): started\n",
      "  Preparing metadata (setup.py): finished with status 'done'\n",
      "Building wheels for collected packages: emoji\n",
      "  Building wheel for emoji (setup.py): started\n",
      "  Building wheel for emoji (setup.py): finished with status 'done'\n",
      "  Created wheel for emoji: filename=emoji-2.2.0-py3-none-any.whl size=234912 sha256=cdacfdb61131ba09a104ee767f2788d13b2aa7c484b3057f421fee11ae664084\n",
      "  Stored in directory: c:\\users\\esther\\appdata\\local\\pip\\cache\\wheels\\34\\1c\\15\\553c4ad364178bab0c80f1fec134dec07ad6f1afbf15e360c1\n",
      "Successfully built emoji\n",
      "Installing collected packages: emoji\n",
      "  Attempting uninstall: emoji\n",
      "    Found existing installation: emoji 1.7.0\n",
      "    Uninstalling emoji-1.7.0:\n",
      "      Successfully uninstalled emoji-1.7.0\n",
      "Successfully installed emoji-2.2.0\n"
     ]
    }
   ],
   "source": [
    "!pip install emoji --upgrade"
   ]
  },
  {
   "cell_type": "code",
   "execution_count": 21,
   "id": "00dbefbc",
   "metadata": {},
   "outputs": [
    {
     "name": "stdout",
     "output_type": "stream",
     "text": [
      "Collecting emoji==1.7\n",
      "  Using cached emoji-1.7.0-py3-none-any.whl\n",
      "Installing collected packages: emoji\n",
      "  Attempting uninstall: emoji\n",
      "    Found existing installation: emoji 2.2.0\n",
      "    Uninstalling emoji-2.2.0:\n",
      "      Successfully uninstalled emoji-2.2.0\n",
      "Successfully installed emoji-1.7.0\n"
     ]
    }
   ],
   "source": [
    "!pip install emoji==1.7"
   ]
  },
  {
   "cell_type": "code",
   "execution_count": null,
   "id": "e2ddf53f",
   "metadata": {},
   "outputs": [],
   "source": [
    "!pip install instapy"
   ]
  },
  {
   "cell_type": "code",
   "execution_count": 1,
   "id": "a3e99d86",
   "metadata": {},
   "outputs": [
    {
     "ename": "ImportError",
     "evalue": "cannot import name 'UNICODE_EMOJI' from 'emoji.unicode_codes' (C:\\Users\\Esther\\anaconda3\\lib\\site-packages\\emoji\\unicode_codes\\__init__.py)",
     "output_type": "error",
     "traceback": [
      "\u001b[1;31m---------------------------------------------------------------------------\u001b[0m",
      "\u001b[1;31mImportError\u001b[0m                               Traceback (most recent call last)",
      "\u001b[1;32m~\\AppData\\Local\\Temp/ipykernel_3388/717638053.py\u001b[0m in \u001b[0;36m<module>\u001b[1;34m\u001b[0m\n\u001b[1;32m----> 1\u001b[1;33m \u001b[1;32mfrom\u001b[0m \u001b[0minstapy\u001b[0m \u001b[1;32mimport\u001b[0m \u001b[0mInstaPy\u001b[0m\u001b[1;33m\u001b[0m\u001b[1;33m\u001b[0m\u001b[0m\n\u001b[0m",
      "\u001b[1;32m~\\AppData\\Roaming\\Python\\Python39\\site-packages\\instapy\\__init__.py\u001b[0m in \u001b[0;36m<module>\u001b[1;34m\u001b[0m\n\u001b[0;32m      4\u001b[0m \u001b[0m__version__\u001b[0m \u001b[1;33m=\u001b[0m \u001b[1;34m\"0.6.16\"\u001b[0m\u001b[1;33m\u001b[0m\u001b[1;33m\u001b[0m\u001b[0m\n\u001b[0;32m      5\u001b[0m \u001b[1;33m\u001b[0m\u001b[0m\n\u001b[1;32m----> 6\u001b[1;33m \u001b[1;32mfrom\u001b[0m \u001b[1;33m.\u001b[0m\u001b[0minstapy\u001b[0m \u001b[1;32mimport\u001b[0m \u001b[0mInstaPy\u001b[0m\u001b[1;33m\u001b[0m\u001b[1;33m\u001b[0m\u001b[0m\n\u001b[0m\u001b[0;32m      7\u001b[0m \u001b[1;32mfrom\u001b[0m \u001b[1;33m.\u001b[0m\u001b[0mutil\u001b[0m \u001b[1;32mimport\u001b[0m \u001b[0msmart_run\u001b[0m\u001b[1;33m\u001b[0m\u001b[1;33m\u001b[0m\u001b[0m\n\u001b[0;32m      8\u001b[0m \u001b[1;32mfrom\u001b[0m \u001b[1;33m.\u001b[0m\u001b[0msettings\u001b[0m \u001b[1;32mimport\u001b[0m \u001b[0mSettings\u001b[0m\u001b[1;33m\u001b[0m\u001b[1;33m\u001b[0m\u001b[0m\n",
      "\u001b[1;32m~\\AppData\\Roaming\\Python\\Python39\\site-packages\\instapy\\instapy.py\u001b[0m in \u001b[0;36m<module>\u001b[1;34m\u001b[0m\n\u001b[0;32m     32\u001b[0m \u001b[1;31m# import InstaPy modules\u001b[0m\u001b[1;33m\u001b[0m\u001b[1;33m\u001b[0m\u001b[0m\n\u001b[0;32m     33\u001b[0m \u001b[1;32mfrom\u001b[0m \u001b[1;33m.\u001b[0m \u001b[1;32mimport\u001b[0m \u001b[0m__version__\u001b[0m\u001b[1;33m\u001b[0m\u001b[1;33m\u001b[0m\u001b[0m\n\u001b[1;32m---> 34\u001b[1;33m \u001b[1;32mfrom\u001b[0m \u001b[1;33m.\u001b[0m\u001b[0mbrowser\u001b[0m \u001b[1;32mimport\u001b[0m \u001b[0mclose_browser\u001b[0m\u001b[1;33m,\u001b[0m \u001b[0mset_selenium_local_session\u001b[0m\u001b[1;33m\u001b[0m\u001b[1;33m\u001b[0m\u001b[0m\n\u001b[0m\u001b[0;32m     35\u001b[0m \u001b[1;32mfrom\u001b[0m \u001b[1;33m.\u001b[0m\u001b[0mclarifai_util\u001b[0m \u001b[1;32mimport\u001b[0m \u001b[0mcheck_image\u001b[0m\u001b[1;33m\u001b[0m\u001b[1;33m\u001b[0m\u001b[0m\n\u001b[0;32m     36\u001b[0m \u001b[1;32mfrom\u001b[0m \u001b[1;33m.\u001b[0m\u001b[0mcomment_util\u001b[0m \u001b[1;32mimport\u001b[0m \u001b[0mcomment_image\u001b[0m\u001b[1;33m,\u001b[0m \u001b[0mget_comments_on_post\u001b[0m\u001b[1;33m,\u001b[0m \u001b[0mprocess_comments\u001b[0m\u001b[1;33m\u001b[0m\u001b[1;33m\u001b[0m\u001b[0m\n",
      "\u001b[1;32m~\\AppData\\Roaming\\Python\\Python39\\site-packages\\instapy\\browser.py\u001b[0m in \u001b[0;36m<module>\u001b[1;34m\u001b[0m\n\u001b[0;32m     12\u001b[0m \u001b[1;33m\u001b[0m\u001b[0m\n\u001b[0;32m     13\u001b[0m \u001b[1;31m# import InstaPy modules\u001b[0m\u001b[1;33m\u001b[0m\u001b[1;33m\u001b[0m\u001b[0m\n\u001b[1;32m---> 14\u001b[1;33m \u001b[1;32mfrom\u001b[0m \u001b[1;33m.\u001b[0m\u001b[0mutil\u001b[0m \u001b[1;32mimport\u001b[0m \u001b[0minterruption_handler\u001b[0m\u001b[1;33m\u001b[0m\u001b[1;33m\u001b[0m\u001b[0m\n\u001b[0m\u001b[0;32m     15\u001b[0m \u001b[1;32mfrom\u001b[0m \u001b[1;33m.\u001b[0m\u001b[0mutil\u001b[0m \u001b[1;32mimport\u001b[0m \u001b[0mhighlight_print\u001b[0m\u001b[1;33m\u001b[0m\u001b[1;33m\u001b[0m\u001b[0m\n\u001b[0;32m     16\u001b[0m \u001b[1;32mfrom\u001b[0m \u001b[1;33m.\u001b[0m\u001b[0mutil\u001b[0m \u001b[1;32mimport\u001b[0m \u001b[0memergency_exit\u001b[0m\u001b[1;33m\u001b[0m\u001b[1;33m\u001b[0m\u001b[0m\n",
      "\u001b[1;32m~\\AppData\\Roaming\\Python\\Python39\\site-packages\\instapy\\util.py\u001b[0m in \u001b[0;36m<module>\u001b[1;34m\u001b[0m\n\u001b[0;32m     25\u001b[0m \u001b[1;32mimport\u001b[0m \u001b[0mregex\u001b[0m\u001b[1;33m\u001b[0m\u001b[1;33m\u001b[0m\u001b[0m\n\u001b[0;32m     26\u001b[0m \u001b[1;32mfrom\u001b[0m \u001b[0mbs4\u001b[0m \u001b[1;32mimport\u001b[0m \u001b[0mBeautifulSoup\u001b[0m\u001b[1;33m\u001b[0m\u001b[1;33m\u001b[0m\u001b[0m\n\u001b[1;32m---> 27\u001b[1;33m \u001b[1;32mfrom\u001b[0m \u001b[0memoji\u001b[0m\u001b[1;33m.\u001b[0m\u001b[0municode_codes\u001b[0m \u001b[1;32mimport\u001b[0m \u001b[0mUNICODE_EMOJI\u001b[0m\u001b[1;33m\u001b[0m\u001b[1;33m\u001b[0m\u001b[0m\n\u001b[0m\u001b[0;32m     28\u001b[0m \u001b[1;33m\u001b[0m\u001b[0m\n\u001b[0;32m     29\u001b[0m \u001b[1;31m# import exceptions\u001b[0m\u001b[1;33m\u001b[0m\u001b[1;33m\u001b[0m\u001b[0m\n",
      "\u001b[1;31mImportError\u001b[0m: cannot import name 'UNICODE_EMOJI' from 'emoji.unicode_codes' (C:\\Users\\Esther\\anaconda3\\lib\\site-packages\\emoji\\unicode_codes\\__init__.py)"
     ]
    }
   ],
   "source": [
    "from instapy import InstaPy"
   ]
  },
  {
   "cell_type": "markdown",
   "id": "63859d33",
   "metadata": {},
   "source": [
    "### Seguir os seguidores de algum perfil"
   ]
  },
  {
   "cell_type": "code",
   "execution_count": null,
   "id": "8e8d88b3",
   "metadata": {},
   "outputs": [],
   "source": [
    "friends = ['amigo01', 'amigo02', 'amigo03']\n",
    "session.follow_user_followers(friends, amount=10, randomize=False, sleep_delay=180)"
   ]
  },
  {
   "cell_type": "markdown",
   "id": "626e92d8",
   "metadata": {},
   "source": [
    "### 100 seguidores seriam retirados de sua página, mas apenas aqueles que não a seguiram (nonFollowers) em até 48 horas. A cada 10 seguidores que são removidos, há um delay de 600 segundos."
   ]
  },
  {
   "cell_type": "code",
   "execution_count": null,
   "id": "9a85ab0d",
   "metadata": {},
   "outputs": [],
   "source": [
    "session.unfollow_users(amount=100, nonFollowers=True, style=\"RANDOM\", unfollow_after=48 * 60 * 60, sleep_delay=600)"
   ]
  },
  {
   "cell_type": "markdown",
   "id": "7132275e",
   "metadata": {},
   "source": [
    "### O código a seguir faz um like automático em 10 posts com as tags indicadas. Use tags que sejam relacionadas ao tópico do seu perfil e seja feliz."
   ]
  },
  {
   "cell_type": "code",
   "execution_count": null,
   "id": "df5998ed",
   "metadata": {},
   "outputs": [],
   "source": [
    "session.like_by_tags(['tag01', 'tag02'], amount=10)"
   ]
  },
  {
   "cell_type": "markdown",
   "id": "b5fe3509",
   "metadata": {},
   "source": [
    "### retorna todos os seguidores de um determinado usuário para que você possa, no futuro, acessar as suas respectivas páginas ou até salvar em disco (store_locally=True)."
   ]
  },
  {
   "cell_type": "code",
   "execution_count": null,
   "id": "2539fa6a",
   "metadata": {},
   "outputs": [],
   "source": [
    "followers = session.grab_followers(username=\"user\", amount=\"full\", live_match=True, store_locally=True)"
   ]
  },
  {
   "cell_type": "markdown",
   "id": "322b5a2f",
   "metadata": {},
   "source": [
    "### Faça alguns comentários bem interessantes e aguarde que o código fará tudo por você."
   ]
  },
  {
   "cell_type": "code",
   "execution_count": null,
   "id": "f7e0e22e",
   "metadata": {},
   "outputs": [],
   "source": [
    "session.set_user_interact(amount=5, randomize=True, percentage=50, media='Photo')\n",
    "session.set_do_follow(enabled=True, percentage=70)\n",
    "session.set_do_like(enabled=True, percentage=70)\n",
    "session.set_comments([\"Manero\", \"Excelente!\"])\n",
    "session.set_do_comment(enabled=True, percentage=80)\n",
    "session.interact_user_followers(['perfil'], amount=10, randomize=True)"
   ]
  },
  {
   "cell_type": "markdown",
   "id": "26fc7506",
   "metadata": {},
   "source": [
    "### Encerrar sessão"
   ]
  },
  {
   "cell_type": "code",
   "execution_count": null,
   "id": "ce5c3870",
   "metadata": {},
   "outputs": [],
   "source": [
    "session.end()"
   ]
  }
 ],
 "metadata": {
  "kernelspec": {
   "display_name": "Python 3 (ipykernel)",
   "language": "python",
   "name": "python3"
  },
  "language_info": {
   "codemirror_mode": {
    "name": "ipython",
    "version": 3
   },
   "file_extension": ".py",
   "mimetype": "text/x-python",
   "name": "python",
   "nbconvert_exporter": "python",
   "pygments_lexer": "ipython3",
   "version": "3.9.7"
  }
 },
 "nbformat": 4,
 "nbformat_minor": 5
}
