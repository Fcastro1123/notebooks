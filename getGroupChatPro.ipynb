{
 "cells": [
  {
   "cell_type": "code",
   "execution_count": 1,
   "id": "6d918e6e",
   "metadata": {},
   "outputs": [],
   "source": [
    "import requests as req"
   ]
  },
  {
   "cell_type": "code",
   "execution_count": 2,
   "id": "1b045173",
   "metadata": {},
   "outputs": [],
   "source": [
    "#url = 'https://v5.chatpro.com.br/chatpro-fz3tdgy4xu/api/v1/contacts'\n",
    "url = 'https://v5.chatpro.com.br/chatpro-fz3tdgy4xu/api/v1/chats'\n",
    "\n",
    "Headers = {'accept': 'application/json',\n",
    "            'Authorization': '759bpq7z1gt0meo61157lt2b7z44q0'            \n",
    "            }"
   ]
  },
  {
   "cell_type": "code",
   "execution_count": 3,
   "id": "9e0d2efe",
   "metadata": {},
   "outputs": [
    {
     "name": "stderr",
     "output_type": "stream",
     "text": [
      "C:\\Users\\Esther\\AppData\\Roaming\\Python\\Python39\\site-packages\\urllib3\\connectionpool.py:1045: InsecureRequestWarning: Unverified HTTPS request is being made to host 'v5.chatpro.com.br'. Adding certificate verification is strongly advised. See: https://urllib3.readthedocs.io/en/1.26.x/advanced-usage.html#ssl-warnings\n",
      "  warnings.warn(\n"
     ]
    },
    {
     "name": "stdout",
     "output_type": "stream",
     "text": [
      "1 Name: Grupo Secagem - JID: 556799692180-1452838064@g.us\n",
      "2 Name: CPC - Linha de Fibras - JID: 556792735409-1565108129@g.us\n",
      "3 Name: TLS - Líderes Industrial - JID: 556799878473-1484476034@g.us\n",
      "4 Name: Manutenção CPC - JID: 556798580871-1611669146@g.us\n",
      "5 Name: Água selagem de alta-DDWs - JID: 556798580871-1610631880@g.us\n",
      "6 Name: Equipe Manut Caust/ forno - JID: 556798495638-1598352883@g.us\n",
      "7 Name: TLS - Processo LFS - JID: 556799878473-1598465835@g.us\n",
      "8 Name: Manutenção Pátio - JID: 556791564845-1482716782@g.us\n",
      "9 Name: OPERAÇÃO PAINEL SDCD - JID: 5519982255016-1516563456@g.us\n",
      "10 Name: Gestão da Manutenção TLS - JID: 556792319077-1606697468@g.us\n",
      "11 Name: Man. Complementar - JID: 556798870991-1560221367@g.us\n",
      "12 Name: Mecânica vapor  - JID: 5516991691105-1603738125@g.us\n",
      "13 Name: Event Notification - JID: 556796195870-1623417680@g.us\n",
      "14 Name: Equipe Planejamento - JID: 556791288769-1475260432@g.us\n",
      "15 Name: Oficial Fiber Line - JID: 5511995991662-1629754023@g.us\n",
      "16 Name: Manutenção TMU - JID: 556796573155-1556189044@g.us\n",
      "17 Name: Manutenção - Suzano TLS - JID: 556792319077-1611591054@g.us\n",
      "18 Name: Oficina Suzano - JID: 5511942829499-1628873707@g.us\n",
      "19 Name: Instrumentação CPC - JID: 556796496769-1458645087@g.us\n",
      "20 Name: Elétrica CPU /Oficina - JID: 556796377778-1575997220@g.us\n",
      "21 Name: Confiabilidade & Inovação - JID: 556799878729-1582722660@g.us\n",
      "22 Name: Equipe MAI - Suzano - JID: 556799494013-1559602918@g.us\n",
      "23 Name: Gestão Secagem Três Lago - JID: 556791288769-1569020760@g.us\n",
      "24 Name: SECAGEM - JID: 556791288769-1584983942@g.us\n",
      "25 Name: Utilidades - JID: 556798223929-1584993819@g.us\n",
      "26 Name: 💧Acompanhamento áreas WFT - JID: 120363041148033469@g.us\n",
      "27 Name: Notificação Asset O. - JID: 120363045621874147@g.us\n",
      "28 Name: GroupTests - JID: 120363041567112989@g.us\n",
      "29 Name: Fabiano - JID: 556796195870@c.us\n",
      "30 Name: Op CR/EVA H2👷🏻 - JID: 556798453746-1501599580@g.us\n",
      "31 Name: OP. EVA01/CR01 - JID: 556799876432-1433192327@g.us\n",
      "32 Name: PG22 -REGISTROS - JID: 120363022996159072@g.us\n",
      "33 Name: +14155238886 - JID: 14155238886@c.us\n",
      "34 Name: Grupo de teste - JID: 120363041094705045@g.us\n",
      "35 Name: Lu do Magalu - JID: 5511974627106@c.us\n"
     ]
    }
   ],
   "source": [
    "response = req.get(url, headers=Headers, verify=False).json()\n",
    "a = 1\n",
    "for i in response:    \n",
    "    if 'name' in i.keys():\n",
    "        print(a, 'Name:', i['name'], '-', 'JID:', i['jid'])\n",
    "        a += 1\n"
   ]
  },
  {
   "cell_type": "code",
   "execution_count": null,
   "id": "943f7851",
   "metadata": {},
   "outputs": [],
   "source": []
  }
 ],
 "metadata": {
  "kernelspec": {
   "display_name": "Python 3 (ipykernel)",
   "language": "python",
   "name": "python3"
  },
  "language_info": {
   "codemirror_mode": {
    "name": "ipython",
    "version": 3
   },
   "file_extension": ".py",
   "mimetype": "text/x-python",
   "name": "python",
   "nbconvert_exporter": "python",
   "pygments_lexer": "ipython3",
   "version": "3.9.7"
  }
 },
 "nbformat": 4,
 "nbformat_minor": 5
}
