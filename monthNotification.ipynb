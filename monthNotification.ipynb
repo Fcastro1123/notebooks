{
 "cells": [
  {
   "cell_type": "code",
   "execution_count": 2,
   "id": "047a6b47",
   "metadata": {},
   "outputs": [
    {
     "name": "stdout",
     "output_type": "stream",
     "text": [
      "Collecting psycopg2\n",
      "  Downloading psycopg2-2.9.3-cp39-cp39-win_amd64.whl (1.2 MB)\n",
      "Installing collected packages: psycopg2\n",
      "Successfully installed psycopg2-2.9.3\n"
     ]
    }
   ],
   "source": [
    "!pip install psycopg2"
   ]
  },
  {
   "cell_type": "code",
   "execution_count": 3,
   "id": "6ad45a6c",
   "metadata": {},
   "outputs": [],
   "source": [
    "import psycopg2"
   ]
  },
  {
   "cell_type": "code",
   "execution_count": 28,
   "id": "0f240d5c",
   "metadata": {},
   "outputs": [],
   "source": [
    "con = psycopg2.connect(host='191.252.210.14', database='Month',\n",
    "user='postgres', password='Suz@no3TL')\n",
    "cur = con.cursor()"
   ]
  },
  {
   "cell_type": "code",
   "execution_count": 29,
   "id": "617dd4b8",
   "metadata": {},
   "outputs": [],
   "source": [
    "cur.execute('select * from agenda')\n",
    "select = cur.fetchall()"
   ]
  },
  {
   "cell_type": "code",
   "execution_count": 30,
   "id": "0f7a9282",
   "metadata": {},
   "outputs": [
    {
     "name": "stdout",
     "output_type": "stream",
     "text": [
      "('2022-08-14', '18:00', 'Tardezinha', 'GumasBar ', 'Mariane', 'Month', '600,00', '8', '2022', '15-05-2022')\n",
      "('2022-09-04', '18:00', 'Tardezinha', 'GumasBar ', 'Mariane', 'Month', '600,00', '9', '2022', '15-05-2022')\n",
      "('2022-09-11', '18:00', 'Tardezinha', 'GumasBar ', 'Mariane', 'Month', '600,00', '9', '2022', '15-05-2022')\n",
      "('2022-09-18', '18:00', 'Tardezinha', 'GumasBar ', 'Mariane', 'Month', '600,00', '9', '2022', '15-05-2022')\n",
      "('2022-09-25', '18:00', 'Tardezinha', 'GumasBar ', 'Mariane', 'Month', '600,00', '9', '2022', '15-05-2022')\n",
      "('2022-06-05', '11:00', '', 'Local a definir', 'Michele - Comadre', 'Porquinho', '600', '6', '2022', '14-05-2022')\n",
      "('2022-06-05', '18:00', 'Tardezinha ', 'GumasBar ', 'Mariane', 'Month ', '600', '6', '2022', '10-05-2022')\n",
      "('2022-05-06', '20:00', 'Samba de roda', 'Juninho conveniência ', 'Juninho ', 'Month', '800', '5', '2022', '04-05-2022')\n",
      "('2022-05-07', '19:00', 'Samba de roda', 'Água Clara', 'Mario ', 'Month', '1200', '5', '2022', '04-05-2022')\n",
      "('2022-05-08', '18:00', 'Tardezinha', 'GumasBar', 'Mariane', 'Month', '600', '5', '2022', '04-05-2022')\n",
      "('2022-05-15', '18:00', 'Tardezinha', 'GumasBar', 'Mariane', 'Month', '600', '5', '2022', '04-05-2022')\n",
      "('2022-05-20', '20:00', 'Samba de roda ', 'Juninho conveniência ', 'Juninho ', 'Month', '800', '5', '2022', '04-05-2022')\n",
      "('2022-05-21', '20:00', 'Boteco do Netinho', 'Netinho de Paula - Papillon', 'BackLove ', 'Porks', '600', '5', '2022', '04-05-2022')\n",
      "('2022-05-22', '18:00', 'Tardezinha', 'GumasBar', 'Mariane', 'Month', '600', '5', '2022', '04-05-2022')\n",
      "('2022-05-28', '20:00', 'Samba de roda ', 'Juninho conveniência ', 'Juninho ', 'Month', '800', '5', '2022', '04-05-2022')\n",
      "('2022-05-29', '18:00', 'Tardezinha', 'GumasBar ', 'Mariane  ', 'Month', '600', '5', '2022', '04-05-2022')\n",
      "('2022-05-01', '18:00', 'Tardezinha ', 'GumasBar ', 'Mariane', 'Month', '600', '5', '2022', '10-05-2022')\n",
      "('2022-05-09', '20:00', 'FutBeer', 'Júlio Maia', 'Jorge', 'Month', '1000', '5', '2022', '10-05-2022')\n",
      "('2022-06-12', '18:00', 'Tardezinha ', 'GumasBar ', 'Mariane ', 'Month ', '600', '6', '2022', '10-05-2022')\n",
      "('2022-06-19', '18:00', 'Tardezinha ', 'GumasBar ', 'Mariane ', 'Month ', '600', '6', '2022', '10-05-2022')\n",
      "('2022-06-26', '18:00', 'Tardezinha ', 'GumasBar ', 'Mariane ', 'Month ', '600', '6', '2022', '10-05-2022')\n",
      "('2022-07-03', '18:00', 'Tardezinha', 'GumasBar', 'Mariane', 'Month ', '600', '7', '2022', '11-05-2022')\n",
      "('2022-07-10', '18:00', 'Tardezinha', 'GumasBar', 'Mariane', 'Month ', '600', '7', '2022', '11-05-2022')\n",
      "('2022-07-17', '18:00', 'Tardezinha', 'GumasBar', 'Mariane', 'Month ', '600', '7', '2022', '11-05-2022')\n",
      "('2022-07-24', '18:00', 'Tardezinha', 'GumasBar', 'Mariane', 'Month ', '600', '7', '2022', '11-05-2022')\n",
      "('2022-07-31', '18:00', 'Tardezinha', 'GumasBar', 'Mariane', 'Month ', '600', '7', '2022', '11-05-2022')\n",
      "('2022-08-07', '18:00', 'Tardezinha', 'GumasBar', 'Mariane', 'Month ', '600', '8', '2022', '11-05-2022')\n",
      "('2022-08-21', '18:00', 'Tardezinha', 'GumasBar', 'Mariane', 'Month ', '600', '8', '2022', '11-05-2022')\n",
      "('2022-08-28', '18:00', 'Tardezinha', 'GumasBar', 'Mariane', 'Month ', '600', '8', '2022', '11-05-2022')\n",
      "('2022-10-02', '18:00', 'Tardezinha', 'GumasBar', 'Mariane', 'Month ', '600', '10', '2022', '11-05-2022')\n",
      "('2022-10-09', '18:00', 'Tardezinha', 'GumasBar', 'Mariane', 'Month ', '600', '10', '2022', '11-05-2022')\n",
      "('2022-10-16', '18:00', 'Tardezinha', 'GumasBar', 'Mariane', 'Month ', '600', '10', '2022', '11-05-2022')\n",
      "('2022-10-23', '18:00', 'Tardezinha', 'GumasBar', 'Mariane', 'Month ', '600', '10', '2022', '11-05-2022')\n",
      "('2022-10-30', '18:00', 'Tardezinha', 'GumasBar', 'Mariane', 'Month ', '600', '10', '2022', '11-05-2022')\n",
      "('2022-11-06', '18:00', 'Tardezinha', 'GumasBar', 'Mariane', 'Month ', '600', '11', '2022', '11-05-2022')\n",
      "('2022-11-13', '18:00', 'Tardezinha', 'GumasBar', 'Mariane', 'Month ', '600', '11', '2022', '11-05-2022')\n",
      "('2022-11-20', '18:00', 'Tardezinha', 'GumasBar', 'Mariane', 'Month ', '600', '11', '2022', '11-05-2022')\n",
      "('2022-11-27', '18:00', 'Tardezinha', 'GumasBar', 'Mariane', 'Month ', '600', '11', '2022', '11-05-2022')\n",
      "('2022-12-04', '18:00', 'Tardezinha', 'GumasBar', 'Mariane', 'Month ', '600', '12', '2022', '11-05-2022')\n",
      "('2022-12-11', '18:00', 'Tardezinha', 'GumasBar', 'Mariane', 'Month ', '600', '12', '2022', '11-05-2022')\n",
      "('2022-12-18', '18:00', 'Tardezinha', 'GumasBar', 'Mariane', 'Month ', '600', '12', '2022', '11-05-2022')\n",
      "('2022-12-25', '18:00', 'Tardezinha', 'GumasBar', 'Mariane', 'Month ', '600', '12', '2022', '11-05-2022')\n",
      "('2022-05-13', '19:30', 'Samba', 'Pier Marina', 'Flávia ', 'Month ', '900', '5', '2022', '12-05-2022')\n",
      "('2022-05-14', '18:30', 'Samba', 'Niver sobrinha Porks ', '------', 'Porks', '600', '5', '2022', '12-05-2022')\n"
     ]
    }
   ],
   "source": [
    "for rec in select:\n",
    "    print (rec)\n",
    "    con.close()"
   ]
  },
  {
   "cell_type": "code",
   "execution_count": null,
   "id": "ff7b1c01",
   "metadata": {},
   "outputs": [],
   "source": []
  }
 ],
 "metadata": {
  "kernelspec": {
   "display_name": "Python 3 (ipykernel)",
   "language": "python",
   "name": "python3"
  },
  "language_info": {
   "codemirror_mode": {
    "name": "ipython",
    "version": 3
   },
   "file_extension": ".py",
   "mimetype": "text/x-python",
   "name": "python",
   "nbconvert_exporter": "python",
   "pygments_lexer": "ipython3",
   "version": "3.9.7"
  }
 },
 "nbformat": 4,
 "nbformat_minor": 5
}
